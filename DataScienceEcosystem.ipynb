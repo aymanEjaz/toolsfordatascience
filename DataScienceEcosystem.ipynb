{
 "cells": [
  {
   "cell_type": "markdown",
   "id": "affe5073",
   "metadata": {},
   "source": [
    "# Data Science Tools and Ecosystem"
   ]
  },
  {
   "cell_type": "markdown",
   "id": "cc8cf89a",
   "metadata": {},
   "source": [
    "In this notebook, Data Science Tools and Ecosystem are summarized"
   ]
  },
  {
   "cell_type": "raw",
   "id": "042bf410",
   "metadata": {},
   "source": [
    "Some of the popular languages that Data Scientists use are:\n",
    "\n",
    "1- Python\n",
    "2- R\n",
    "3- SQL\n",
    "4- Julia\n",
    "5- Scala"
   ]
  },
  {
   "cell_type": "raw",
   "id": "df088f61",
   "metadata": {},
   "source": [
    "Some of the commonly used libraries used by Data Scientists include:\n",
    "\n",
    "1- NumPy\n",
    "2- Pandas\n",
    "3- Matplotlib\n",
    "4- Scikit-learn\n",
    "5 -TensorFlow\n"
   ]
  },
  {
   "cell_type": "raw",
   "id": "ecb2f7a2",
   "metadata": {},
   "source": [
    "Data Science Tools\n",
    "\n",
    "1- Jupyter Notebook\n",
    "2- RStudio\n",
    "3- Visual Studio Code (VS Code)"
   ]
  },
  {
   "cell_type": "markdown",
   "id": "64e63470",
   "metadata": {},
   "source": [
    "# Here are a few examples of evaluating arithmetic expressions in Python:"
   ]
  },
  {
   "cell_type": "code",
   "execution_count": 3,
   "id": "44b141b4",
   "metadata": {},
   "outputs": [
    {
     "name": "stdout",
     "output_type": "stream",
     "text": [
      "5\n"
     ]
    }
   ],
   "source": [
    "result = 2 + 3\n",
    "print(result)\n"
   ]
  },
  {
   "cell_type": "code",
   "execution_count": 4,
   "id": "9da387f5",
   "metadata": {},
   "outputs": [
    {
     "name": "stdout",
     "output_type": "stream",
     "text": [
      "3\n"
     ]
    }
   ],
   "source": [
    "result = 5 - 2\n",
    "print(result)"
   ]
  },
  {
   "cell_type": "code",
   "execution_count": 6,
   "id": "681b1250",
   "metadata": {},
   "outputs": [
    {
     "name": "stdout",
     "output_type": "stream",
     "text": [
      "24\n"
     ]
    }
   ],
   "source": [
    "result = 4 * 6\n",
    "print(result)\n"
   ]
  },
  {
   "cell_type": "code",
   "execution_count": 7,
   "id": "58defbfa",
   "metadata": {},
   "outputs": [
    {
     "name": "stdout",
     "output_type": "stream",
     "text": [
      "3\n"
     ]
    }
   ],
   "source": [
    "result = 10 // 3\n",
    "print(result)"
   ]
  },
  {
   "cell_type": "code",
   "execution_count": 8,
   "id": "02fc097a",
   "metadata": {},
   "outputs": [
    {
     "name": "stdout",
     "output_type": "stream",
     "text": [
      "3.3333333333333335\n"
     ]
    }
   ],
   "source": [
    "result = 10 / 3\n",
    "print(result)"
   ]
  },
  {
   "cell_type": "markdown",
   "id": "5ecb692f",
   "metadata": {},
   "source": [
    "# code cell that converts 200 minutes into hours:# code cell that converts 200 minutes into hours:"
   ]
  },
  {
   "cell_type": "code",
   "execution_count": 9,
   "id": "fa0c7a8f",
   "metadata": {},
   "outputs": [
    {
     "name": "stdout",
     "output_type": "stream",
     "text": [
      "3.3333333333333335\n"
     ]
    }
   ],
   "source": [
    "# This will convert 200 minutes to hours by dividing by 60\n",
    "minutes = 200\n",
    "hours = minutes / 60\n",
    "print(hours)\n"
   ]
  },
  {
   "cell_type": "markdown",
   "id": "45bfccb5",
   "metadata": {},
   "source": [
    "**Objectives:**\n",
    "\n",
    "- List popular languages for Data Science\n",
    "- Understand the basics of Jupyter Notebook\n",
    "- Explore common data science libraries like Pandas and NumPy\n",
    "- Introduce data visualization using Matplotlib\n",
    "- Discuss key concepts of machine learning and its application in data science\n"
   ]
  },
  {
   "cell_type": "markdown",
   "id": "52b0e344",
   "metadata": {},
   "source": [
    "## Author\n",
    "Ayman Ejaz"
   ]
  },
  {
   "cell_type": "code",
   "execution_count": null,
   "id": "d7fa6216",
   "metadata": {},
   "outputs": [],
   "source": []
  }
 ],
 "metadata": {
  "kernelspec": {
   "display_name": "Python 3 (ipykernel)",
   "language": "python",
   "name": "python3"
  },
  "language_info": {
   "codemirror_mode": {
    "name": "ipython",
    "version": 3
   },
   "file_extension": ".py",
   "mimetype": "text/x-python",
   "name": "python",
   "nbconvert_exporter": "python",
   "pygments_lexer": "ipython3",
   "version": "3.11.3"
  }
 },
 "nbformat": 4,
 "nbformat_minor": 5
}
